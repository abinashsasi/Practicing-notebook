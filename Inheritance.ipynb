{
 "cells": [
  {
   "cell_type": "markdown",
   "metadata": {},
   "source": [
    "***Inheritance***"
   ]
  },
  {
   "cell_type": "code",
   "execution_count": 3,
   "metadata": {},
   "outputs": [
    {
     "name": "stdout",
     "output_type": "stream",
     "text": [
      "i am from parent class\n",
      "i am from child class\n"
     ]
    }
   ],
   "source": [
    "class parent:\n",
    "    def func1(self):\n",
    "        print(\"i am from parent class\")\n",
    "\n",
    "class child(parent):\n",
    "    def func2(self):\n",
    "        print(\"i am from child class\")\n",
    "\n",
    "obj=child()\n",
    "obj.func1()\n",
    "obj.func2()\n",
    "        "
   ]
  },
  {
   "cell_type": "code",
   "execution_count": 5,
   "metadata": {},
   "outputs": [
    {
     "name": "stdout",
     "output_type": "stream",
     "text": [
      "john\n",
      "23\n",
      "M\n",
      "chennai\n"
     ]
    }
   ],
   "source": [
    "class parent:\n",
    "    def details(self):\n",
    "        name=\"john\"\n",
    "        age=23\n",
    "        gender=\"M\"\n",
    "        print(name)\n",
    "        print(age)\n",
    "        print(gender)\n",
    "class update(parent):\n",
    "    def update_details(self):\n",
    "        city=\"chennai\"\n",
    "        print(city)\n",
    "\n",
    "obj=update()\n",
    "obj.details()\n",
    "obj.update_details()\n",
    "        \n",
    "        "
   ]
  },
  {
   "cell_type": "code",
   "execution_count": 3,
   "metadata": {},
   "outputs": [
    {
     "name": "stdout",
     "output_type": "stream",
     "text": [
      "i am the class 1\n",
      "i am from class 2\n",
      "i am third class 3\n"
     ]
    }
   ],
   "source": [
    "#multilevel inheratance\n",
    "class one:\n",
    "    def func1(self):\n",
    "        print(\"i am the class 1\")\n",
    "class two(one):\n",
    "    def func2(self):\n",
    "        print(\"i am from class 2\")\n",
    "class third(two):\n",
    "    def func3(self):\n",
    "        print(\"i am third class 3\")\n",
    "obj=third()\n",
    "obj.func1()\n",
    "obj.func2()\n",
    "obj.func3()"
   ]
  },
  {
   "cell_type": "code",
   "execution_count": 9,
   "metadata": {},
   "outputs": [
    {
     "name": "stdout",
     "output_type": "stream",
     "text": [
      "Name : Abinash ........ Age : 23 ....... Gender: M\n",
      "CompanyName: Accenture .... Address: Chennai\n",
      "Salary: 35000 ...... Designation: jr,Data scientist\n"
     ]
    }
   ],
   "source": [
    "#MultilevelInheritance\n",
    "class person:\n",
    "    def personal(self,name,age,gender):\n",
    "        print('Name :',name,\"........\",\"Age :\",age,\".......\",\"Gender:\",gender)\n",
    "class Company(person):\n",
    "    def company(self,companyname,location):\n",
    "        print(\"CompanyName:\",companyname,\"....\",\"Address:\",location)\n",
    "class others(Company):\n",
    "    def other(self,salary,designation):\n",
    "        print('Salary:',salary,\"......\",\"Designation:\",designation)\n",
    "\n",
    "obj=others()\n",
    "obj.personal(\"Abinash\",23,\"M\")\n",
    "obj.company(\"Accenture\",\"Chennai\")\n",
    "obj.other(35000,\"jr,Data scientist\")\n"
   ]
  },
  {
   "cell_type": "code",
   "execution_count": 11,
   "metadata": {},
   "outputs": [
    {
     "name": "stdout",
     "output_type": "stream",
     "text": [
      "All Details\n",
      "Name : Abinash ........ Age : 23 ....... Gender: M\n",
      "CompanyName: Accenture .... Address: Chennai\n"
     ]
    }
   ],
   "source": [
    "#Multile inheritance\n",
    "\n",
    "class person:\n",
    "    def personal(self,name,age,gender):\n",
    "        print('Name :',name,\"........\",\"Age :\",age,\".......\",\"Gender:\",gender)\n",
    "class Company:\n",
    "    def company(self,companyname,location):\n",
    "        print(\"CompanyName:\",companyname,\"....\",\"Address:\",location)\n",
    "class others:\n",
    "    def other(self,salary,designation):\n",
    "        print('Salary:',salary,\"......\",\"Designation:\",designation)\n",
    "\n",
    "class all(person,Company,others):\n",
    "    print(\"All Details\")\n",
    "\n",
    "obj=all()\n",
    "obj.personal(\"Abinash\",23,\"M\")\n",
    "obj.company(\"Accenture\",\"Chennai\")\n",
    "obj.other(35000,\"jr,Data scientist\")"
   ]
  },
  {
   "cell_type": "code",
   "execution_count": 20,
   "metadata": {},
   "outputs": [
    {
     "name": "stdout",
     "output_type": "stream",
     "text": [
      "Father Name:SASI\n",
      "Mother Name:Sumi\n",
      "child 1 Name :ABI\n",
      "Father Name:SASI\n",
      "Mother Name:Sumi\n",
      "child 2 Name :ANU\n"
     ]
    }
   ],
   "source": [
    "#hirearchial inheritance\n",
    "class parent:\n",
    "    def name(self):\n",
    "        print(\"Father Name:SASI\")\n",
    "        print(\"Mother Name:Sumi\")\n",
    "\n",
    "class child1(parent):\n",
    "    def child_name1(self):\n",
    "        print(\"child 1 Name :ABI\")\n",
    "\n",
    "\n",
    "class child2(parent):\n",
    "    def child_name2(self):\n",
    "        print(\"child 2 Name :ANU\")\n",
    "\n",
    "obj=child1()\n",
    "obj.name()\n",
    "obj.child_name1()\n",
    "\n",
    "obj1=child2()\n",
    "obj1.name()\n",
    "obj1.child_name2()"
   ]
  },
  {
   "cell_type": "code",
   "execution_count": 24,
   "metadata": {},
   "outputs": [
    {
     "name": "stdout",
     "output_type": "stream",
     "text": [
      "added value: 30\n",
      "added value: 10\n"
     ]
    }
   ],
   "source": [
    "class add_sub:\n",
    "    def values(self):\n",
    "        self.a=20\n",
    "        self.b=10\n",
    "\n",
    "class add(add_sub):\n",
    "    def Add(self):\n",
    "        print('added value:',self.a+self.b)\n",
    "\n",
    "class sub(add_sub):\n",
    "    def sub(self):\n",
    "        print('added value:',self.a-self.b)\n",
    "\n",
    "obj=add()\n",
    "obj.values()\n",
    "obj.Add()\n",
    "\n",
    "obj1=sub()\n",
    "obj1.values()\n",
    "obj1.sub()"
   ]
  },
  {
   "cell_type": "code",
   "execution_count": null,
   "metadata": {},
   "outputs": [],
   "source": []
  }
 ],
 "metadata": {
  "kernelspec": {
   "display_name": ".venv",
   "language": "python",
   "name": "python3"
  },
  "language_info": {
   "codemirror_mode": {
    "name": "ipython",
    "version": 3
   },
   "file_extension": ".py",
   "mimetype": "text/x-python",
   "name": "python",
   "nbconvert_exporter": "python",
   "pygments_lexer": "ipython3",
   "version": "3.11.5"
  }
 },
 "nbformat": 4,
 "nbformat_minor": 2
}
