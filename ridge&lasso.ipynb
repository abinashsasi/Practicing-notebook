{
 "cells": [
  {
   "cell_type": "code",
   "execution_count": 1,
   "metadata": {},
   "outputs": [
    {
     "name": "stdout",
     "output_type": "stream",
     "text": [
      "Linear Regression:\n",
      "Intercept: 1.2139649388594265\n",
      "Coefficient: 10.067903906503625\n",
      "Mean Squared Error: 31.556542406092696\n",
      "R² score: 0.8944542088325094\n",
      "\n",
      "Ridge Regression:\n",
      "Intercept: 1.7197351490456683\n",
      "Coefficient: 9.976141968689687\n",
      "Mean Squared Error: 30.640022403183078\n",
      "R² score: 0.897519653315719\n",
      "\n",
      "Lasso Regression:\n",
      "Intercept: 2.075830537820586\n",
      "Coefficient: 9.911535548100854\n",
      "Mean Squared Error: 30.05857039581973\n",
      "R² score: 0.8994644104869369\n"
     ]
    }
   ],
   "source": [
    "\n",
    "import pandas as pd\n",
    "import numpy as np\n",
    "from sklearn.model_selection import train_test_split\n",
    "from sklearn.linear_model import LinearRegression, Ridge, Lasso\n",
    "from sklearn.metrics import mean_squared_error, r2_score\n",
    "\n",
    "# Load and split the dataset\n",
    "dataset = pd.read_csv('https://raw.githubusercontent.com/nethajinirmal13/Training-datasets/main/student_scores.csv')\n",
    "X = dataset.iloc[:, :-1].values\n",
    "y = dataset.iloc[:, 1].values\n",
    "X_train, X_test, y_train, y_test = train_test_split(X, y, test_size=0.3, random_state=10)\n",
    "\n",
    "# Linear Regression\n",
    "lin_model = LinearRegression()\n",
    "lin_model.fit(X_train, y_train)\n",
    "lin_y_pred = lin_model.predict(X_test)\n",
    "print(\"Linear Regression:\")\n",
    "print(\"Intercept:\", lin_model.intercept_)\n",
    "print(\"Coefficient:\", lin_model.coef_[0])\n",
    "print(\"Mean Squared Error:\", mean_squared_error(y_test, lin_y_pred))\n",
    "print(\"R² score:\", r2_score(y_test, lin_y_pred))\n",
    "\n",
    "# Ridge Regression\n",
    "ridge_model = Ridge(alpha=1.0)\n",
    "ridge_model.fit(X_train, y_train)\n",
    "ridge_y_pred = ridge_model.predict(X_test)\n",
    "print(\"\\nRidge Regression:\")\n",
    "print(\"Intercept:\", ridge_model.intercept_)\n",
    "print(\"Coefficient:\", ridge_model.coef_[0])\n",
    "print(\"Mean Squared Error:\", mean_squared_error(y_test, ridge_y_pred))\n",
    "print(\"R² score:\", r2_score(y_test, ridge_y_pred))\n",
    "\n",
    "\n",
    "# Lasso Regression\n",
    "lasso_model = Lasso(alpha=1.0)\n",
    "lasso_model.fit(X_train, y_train)\n",
    "lasso_y_pred = lasso_model.predict(X_test)\n",
    "print(\"\\nLasso Regression:\")\n",
    "print(\"Intercept:\", lasso_model.intercept_)\n",
    "print(\"Coefficient:\", lasso_model.coef_[0])\n",
    "print(\"Mean Squared Error:\", mean_squared_error(y_test, lasso_y_pred))\n",
    "print(\"R² score:\", r2_score(y_test, lasso_y_pred))\n",
    "\n"
   ]
  }
 ],
 "metadata": {
  "kernelspec": {
   "display_name": ".venv",
   "language": "python",
   "name": "python3"
  },
  "language_info": {
   "codemirror_mode": {
    "name": "ipython",
    "version": 3
   },
   "file_extension": ".py",
   "mimetype": "text/x-python",
   "name": "python",
   "nbconvert_exporter": "python",
   "pygments_lexer": "ipython3",
   "version": "3.11.5"
  }
 },
 "nbformat": 4,
 "nbformat_minor": 2
}
