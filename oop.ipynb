{
 "cells": [
  {
   "cell_type": "markdown",
   "metadata": {},
   "source": [
    "**#oject oriented programming system**"
   ]
  },
  {
   "cell_type": "code",
   "execution_count": 1,
   "metadata": {},
   "outputs": [],
   "source": [
    "#class and object\n",
    "#everything in python is an object with properties and methods\n",
    "#a class is an like object constrructor  or a blue print for creating object"
   ]
  },
  {
   "cell_type": "code",
   "execution_count": 136,
   "metadata": {},
   "outputs": [
    {
     "name": "stdout",
     "output_type": "stream",
     "text": [
      "dhana\n"
     ]
    }
   ],
   "source": [
    "class person:\n",
    "    print(\"dhana\")"
   ]
  },
  {
   "cell_type": "code",
   "execution_count": 137,
   "metadata": {},
   "outputs": [],
   "source": [
    "obj1=person()"
   ]
  },
  {
   "cell_type": "code",
   "execution_count": 129,
   "metadata": {},
   "outputs": [
    {
     "name": "stdout",
     "output_type": "stream",
     "text": [
      "loosu p**da dhana\n"
     ]
    }
   ],
   "source": [
    "class Dhana:\n",
    "    name=\"\"\n",
    "    print(\"loosu p**da\",obj.name)\n",
    "obj=Dhana()\n",
    "obj.name=\"dhana\""
   ]
  },
  {
   "cell_type": "code",
   "execution_count": 3,
   "metadata": {},
   "outputs": [
    {
     "name": "stdout",
     "output_type": "stream",
     "text": [
      "Hi\n",
      "10\n"
     ]
    }
   ],
   "source": [
    "#class with variable\n",
    "class person():\n",
    "    print(\"Hi\")\n",
    "    a=10\n",
    "    print(a)"
   ]
  },
  {
   "cell_type": "code",
   "execution_count": 4,
   "metadata": {},
   "outputs": [
    {
     "name": "stdout",
     "output_type": "stream",
     "text": [
      "Hi\n"
     ]
    },
    {
     "ename": "NameError",
     "evalue": "name 'b' is not defined",
     "output_type": "error",
     "traceback": [
      "\u001b[1;31m---------------------------------------------------------------------------\u001b[0m",
      "\u001b[1;31mNameError\u001b[0m                                 Traceback (most recent call last)",
      "Cell \u001b[1;32mIn[4], line 4\u001b[0m\n\u001b[0;32m      2\u001b[0m     \u001b[38;5;28mprint\u001b[39m(\u001b[38;5;124m\"\u001b[39m\u001b[38;5;124mHi\u001b[39m\u001b[38;5;124m\"\u001b[39m)\n\u001b[0;32m      3\u001b[0m     b\u001b[38;5;241m=\u001b[39m\u001b[38;5;241m9\u001b[39m\n\u001b[1;32m----> 4\u001b[0m \u001b[38;5;28mprint\u001b[39m(\u001b[43mb\u001b[49m)\n",
      "\u001b[1;31mNameError\u001b[0m: name 'b' is not defined"
     ]
    }
   ],
   "source": [
    "class person():\n",
    "    print(\"Hi\")\n",
    "    b=9\n",
    "print(b)"
   ]
  },
  {
   "cell_type": "code",
   "execution_count": 12,
   "metadata": {},
   "outputs": [
    {
     "name": "stdout",
     "output_type": "stream",
     "text": [
      "Hai\n",
      "9\n",
      "9\n"
     ]
    }
   ],
   "source": [
    "#creating Object\n",
    "class person():\n",
    "    print(\"Hai\")\n",
    "    b=9\n",
    "obj=person()\n",
    "print(obj.b)\n",
    "obj2=person()\n",
    "print(obj2.b)"
   ]
  },
  {
   "cell_type": "code",
   "execution_count": 46,
   "metadata": {},
   "outputs": [
    {
     "name": "stdout",
     "output_type": "stream",
     "text": [
      "Hello\n",
      "Hello\n"
     ]
    }
   ],
   "source": [
    "class text():\n",
    "    def msg(self):\n",
    "        print(\"Hello\")\n",
    "abi=text()\n",
    "ajay=text()\n",
    "abi.msg()\n",
    "ajay.msg()"
   ]
  },
  {
   "cell_type": "code",
   "execution_count": 55,
   "metadata": {},
   "outputs": [
    {
     "name": "stdout",
     "output_type": "stream",
     "text": [
      "the added value of 10 and 20 is 30\n"
     ]
    }
   ],
   "source": [
    "class addition():\n",
    "    def add(self,a,b):\n",
    "        c=a+b\n",
    "        print(\"the added value of\",a,\"and\",b,\"is\",c)\n",
    "\n",
    "#create objects\n",
    "obj1=addition()\n",
    "obj1.add(10,20)"
   ]
  },
  {
   "cell_type": "code",
   "execution_count": 71,
   "metadata": {},
   "outputs": [
    {
     "name": "stdout",
     "output_type": "stream",
     "text": [
      "the added value of 10 20 and 20 is 50\n",
      "the added value of 50 60 and 20 is 130\n"
     ]
    }
   ],
   "source": [
    "class addition():\n",
    "    c=20\n",
    "    def add(self,a,b):\n",
    "        d=a+b+self.c\n",
    "        print(\"the added value of\",a,b,\"and\",self.c,\"is\",d)\n",
    "\n",
    "#create objects\n",
    "obj1=addition()\n",
    "obj1.add(10,20)\n",
    "obj2=addition()\n",
    "obj2.add(50,60)"
   ]
  },
  {
   "cell_type": "code",
   "execution_count": 73,
   "metadata": {},
   "outputs": [
    {
     "name": "stdout",
     "output_type": "stream",
     "text": [
      "my name is:  Abinash\n",
      "Age is:  23\n",
      "Gender is:  male\n"
     ]
    }
   ],
   "source": [
    "#task\n",
    "class person():\n",
    "    def bio(self):\n",
    "        name=\"Abinash\"\n",
    "        age=23\n",
    "        gender=\"male\"\n",
    "        print(\"my name is: \",name)\n",
    "        print(\"Age is: \",age)\n",
    "        print(\"Gender is: \",gender)\n",
    "obj=person()\n",
    "obj.bio()"
   ]
  },
  {
   "cell_type": "code",
   "execution_count": 85,
   "metadata": {},
   "outputs": [
    {
     "name": "stdout",
     "output_type": "stream",
     "text": [
      "my name is:  Abinash\n",
      "Age is:  23\n",
      "Gender is:  male\n"
     ]
    }
   ],
   "source": [
    "class person():\n",
    "    def get_details(self):\n",
    "        self.name=\"Abinash\"\n",
    "        self.age=23\n",
    "        self.gender=\"male\"\n",
    "    def print_details(self):\n",
    "        print(\"my name is: \",self.name)\n",
    "        print(\"Age is: \",self.age)\n",
    "        print(\"Gender is: \",self.gender)\n",
    "o=person()\n",
    "o.get_details()\n",
    "o.print_details()\n"
   ]
  },
  {
   "cell_type": "code",
   "execution_count": 87,
   "metadata": {},
   "outputs": [
    {
     "name": "stdout",
     "output_type": "stream",
     "text": [
      "my name is:  abi\n",
      "Age is:  23\n",
      "Gender is:  m\n"
     ]
    }
   ],
   "source": [
    "class person():\n",
    "    def get_details(self,name,age,gender):\n",
    "        self.name=name\n",
    "        self.age=age\n",
    "        self.gender=gender\n",
    "    def print_details(self):\n",
    "        print(\"my name is: \",self.name)\n",
    "        print(\"Age is: \",self.age)\n",
    "        print(\"Gender is: \",self.gender)\n",
    "o=person()\n",
    "o.get_details(\"abi\",23,\"m\")\n",
    "o.print_details()\n"
   ]
  },
  {
   "cell_type": "code",
   "execution_count": 98,
   "metadata": {},
   "outputs": [
    {
     "name": "stdout",
     "output_type": "stream",
     "text": [
      "my name is:  abi\n",
      "Age is:  23\n",
      "Gender is:  M\n"
     ]
    }
   ],
   "source": [
    "class person():\n",
    "    name=\"\"\n",
    "    age=0\n",
    "    gender=\"\"\n",
    "    def print_details(self):\n",
    "        print(\"my name is: \",self.name)\n",
    "        print(\"Age is: \",self.age)\n",
    "        print(\"Gender is: \",self.gender)\n",
    "\n",
    "per1=person()\n",
    "per1.name=\"abi\"\n",
    "per1.age=23\n",
    "per1.gender=\"M\"\n",
    "\n",
    "\n",
    "per1.print_details()"
   ]
  },
  {
   "cell_type": "code",
   "execution_count": 111,
   "metadata": {},
   "outputs": [
    {
     "name": "stdout",
     "output_type": "stream",
     "text": [
      "area: 1309.0\n"
     ]
    }
   ],
   "source": [
    "class room:\n",
    "    length=0.0\n",
    "    breath=0.0\n",
    "    def cal(self):\n",
    "        print(\"area:\",ar.length*self.breath)\n",
    "\n",
    "ar=room()\n",
    "ar.length=42.5\n",
    "ar.breath=30.8\n",
    "\n",
    "ar.cal()"
   ]
  },
  {
   "cell_type": "markdown",
   "metadata": {},
   "source": [
    "*constructor*"
   ]
  },
  {
   "cell_type": "code",
   "execution_count": 116,
   "metadata": {},
   "outputs": [
    {
     "name": "stdout",
     "output_type": "stream",
     "text": [
      "Hai\n"
     ]
    }
   ],
   "source": [
    "#constructor\n",
    "class test:\n",
    "    def __init__ (self):\n",
    "        print(\"Hai\")\n",
    "\n",
    "obj=test()"
   ]
  },
  {
   "cell_type": "code",
   "execution_count": 120,
   "metadata": {},
   "outputs": [
    {
     "name": "stdout",
     "output_type": "stream",
     "text": [
      "hi,hello\n"
     ]
    }
   ],
   "source": [
    "class test:\n",
    "    def __init__ (self):\n",
    "        print(\"Hai\")\n",
    "    def __init__(self):\n",
    "        print(\"Hello\")\n",
    "    def __init__(self):\n",
    "        print(\"hi,hello\") \n",
    "obj=test()"
   ]
  },
  {
   "cell_type": "code",
   "execution_count": 122,
   "metadata": {},
   "outputs": [
    {
     "name": "stdout",
     "output_type": "stream",
     "text": [
      "Hai abi\n",
      "23\n"
     ]
    }
   ],
   "source": [
    "#paramaterized constructor\n",
    "class student:\n",
    "    def __init__ (self,name,age):\n",
    "        print(\"Hai\",name)\n",
    "        print(age)\n",
    "\n",
    "obj=student(\"abi\",23)"
   ]
  },
  {
   "cell_type": "code",
   "execution_count": 139,
   "metadata": {},
   "outputs": [
    {
     "name": "stdout",
     "output_type": "stream",
     "text": [
      "Hai abi\n",
      "23\n"
     ]
    }
   ],
   "source": [
    "class student:\n",
    "    def __init__ (self,name,age):\n",
    "        self.name=name\n",
    "        self.age=age\n",
    "\n",
    "    def print1(self):\n",
    "        print(\"Hai\",self.name)\n",
    "        print(self.age)\n",
    "\n",
    "obj=student(\"abi\",23)\n",
    "obj.print1()"
   ]
  },
  {
   "cell_type": "code",
   "execution_count": 141,
   "metadata": {},
   "outputs": [
    {
     "name": "stdout",
     "output_type": "stream",
     "text": [
      "Hai abi\n",
      "23\n"
     ]
    }
   ],
   "source": [
    "class student:\n",
    "    def __init__ (self,name,age):\n",
    "        self.n=name\n",
    "        self.a=age\n",
    "\n",
    "    def print1(self):\n",
    "        print(\"Hai\",self.n)\n",
    "        print(self.a)\n",
    "\n",
    "obj=student(\"abi\",23)\n",
    "obj.print1()"
   ]
  },
  {
   "cell_type": "code",
   "execution_count": 9,
   "metadata": {},
   "outputs": [
    {
     "name": "stdout",
     "output_type": "stream",
     "text": [
      "\n"
     ]
    }
   ],
   "source": [
    "for i in range(1,6):\n",
    "    for j in range(5,1):\n",
    "        print(\"*\")\n",
    "print(\"\")"
   ]
  },
  {
   "cell_type": "code",
   "execution_count": null,
   "metadata": {},
   "outputs": [],
   "source": []
  },
  {
   "cell_type": "code",
   "execution_count": null,
   "metadata": {},
   "outputs": [],
   "source": []
  },
  {
   "cell_type": "code",
   "execution_count": null,
   "metadata": {},
   "outputs": [],
   "source": []
  }
 ],
 "metadata": {
  "kernelspec": {
   "display_name": ".venv",
   "language": "python",
   "name": "python3"
  },
  "language_info": {
   "codemirror_mode": {
    "name": "ipython",
    "version": 3
   },
   "file_extension": ".py",
   "mimetype": "text/x-python",
   "name": "python",
   "nbconvert_exporter": "python",
   "pygments_lexer": "ipython3",
   "version": "3.11.5"
  }
 },
 "nbformat": 4,
 "nbformat_minor": 2
}
